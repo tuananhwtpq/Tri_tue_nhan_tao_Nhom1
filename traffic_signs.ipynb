{
 "cells": [
  {
   "cell_type": "markdown",
   "metadata": {},
   "source": [
    "# Tiền xử lí dữ liệu"
   ]
  },
  {
   "cell_type": "code",
   "execution_count": 1,
   "metadata": {},
   "outputs": [],
   "source": [
    "import numpy as np \n",
    "import pandas as pd \n",
    "import matplotlib.pyplot as plt\n",
    "import cv2\n",
    "import tensorflow as tf\n",
    "from PIL import Image\n",
    "import os\n",
    "from sklearn.model_selection import train_test_split\n",
    "from keras.utils import to_categorical\n",
    "from keras.models import Sequential, load_model\n",
    "from keras.layers import Conv2D, MaxPool2D, Dense, Flatten, Dropout\n",
    "\n",
    "data = []\n",
    "labels = []\n",
    "classes = 43\n",
    "cur_path = os.getcwd()\n",
    "\n",
    "#Retrieving the images and their labels \n",
    "for i in range(classes):\n",
    "    path = os.path.join(cur_path,'train',str(i))\n",
    "    images = os.listdir(path)\n",
    "\n",
    "    for a in images:\n",
    "        try:\n",
    "            image = Image.open(path + '\\\\'+ a)\n",
    "            image = image.resize((30,30))\n",
    "            image = np.array(image)\n",
    "            #sim = Image.fromarray(image)\n",
    "            data.append(image)\n",
    "            labels.append(i)\n",
    "        except:\n",
    "            print(\"Error loading image\")\n",
    "\n",
    "#Converting lists into numpy arrays\n",
    "data = np.array(data)\n",
    "labels = np.array(labels)"
   ]
  },
  {
   "cell_type": "code",
   "execution_count": 2,
   "metadata": {},
   "outputs": [
    {
     "name": "stdout",
     "output_type": "stream",
     "text": [
      "(39209, 30, 30, 3) (39209,)\n",
      "(31367, 30, 30, 3) (7842, 30, 30, 3) (31367,) (7842,)\n"
     ]
    }
   ],
   "source": [
    "print(data.shape, labels.shape)\n",
    "#Splitting training and testing dataset\n",
    "X_train, X_test, y_train, y_test = train_test_split(data, labels, test_size=0.2, random_state=42)\n",
    "\n",
    "print(X_train.shape, X_test.shape, y_train.shape, y_test.shape)\n",
    "\n",
    "#Converting the labels into one hot encoding\n",
    "y_train = to_categorical(y_train, 43)\n",
    "y_test = to_categorical(y_test, 43)"
   ]
  },
  {
   "cell_type": "code",
   "execution_count": 3,
   "metadata": {},
   "outputs": [],
   "source": [
    "#Building the model\n",
    "model = Sequential()\n",
    "model.add(Conv2D(filters=32, kernel_size=(5,5), activation='relu', input_shape=X_train.shape[1:]))\n",
    "model.add(Conv2D(filters=32, kernel_size=(5,5), activation='relu'))\n",
    "model.add(MaxPool2D(pool_size=(2, 2)))\n",
    "model.add(Dropout(rate=0.25))\n",
    "model.add(Conv2D(filters=64, kernel_size=(3, 3), activation='relu'))\n",
    "model.add(Conv2D(filters=64, kernel_size=(3, 3), activation='relu'))\n",
    "model.add(MaxPool2D(pool_size=(2, 2)))\n",
    "model.add(Dropout(rate=0.25))\n",
    "model.add(Flatten())\n",
    "model.add(Dense(256, activation='relu'))\n",
    "model.add(Dropout(rate=0.5))\n",
    "model.add(Dense(43, activation='softmax'))\n",
    "\n",
    "#Compilation of the model\n",
    "model.compile(loss='categorical_crossentropy', optimizer='adam', metrics=['accuracy'])"
   ]
  },
  {
   "cell_type": "code",
   "execution_count": 4,
   "metadata": {},
   "outputs": [
    {
     "name": "stdout",
     "output_type": "stream",
     "text": [
      "Epoch 1/15\n",
      "981/981 [==============================] - 39s 39ms/step - loss: 1.9994 - accuracy: 0.4970 - val_loss: 0.4095 - val_accuracy: 0.8930\n",
      "Epoch 2/15\n",
      "981/981 [==============================] - 34s 34ms/step - loss: 0.5638 - accuracy: 0.8321 - val_loss: 0.2177 - val_accuracy: 0.9546\n",
      "Epoch 3/15\n",
      "981/981 [==============================] - 31s 31ms/step - loss: 0.3417 - accuracy: 0.9002 - val_loss: 0.0854 - val_accuracy: 0.9782\n",
      "Epoch 4/15\n",
      "981/981 [==============================] - 30s 31ms/step - loss: 0.2887 - accuracy: 0.9176 - val_loss: 0.0710 - val_accuracy: 0.9819\n",
      "Epoch 5/15\n",
      "981/981 [==============================] - 31s 31ms/step - loss: 0.2567 - accuracy: 0.9268 - val_loss: 0.0543 - val_accuracy: 0.9864\n",
      "Epoch 6/15\n",
      "981/981 [==============================] - 38s 38ms/step - loss: 0.2361 - accuracy: 0.9341 - val_loss: 0.0770 - val_accuracy: 0.9804\n",
      "Epoch 7/15\n",
      "981/981 [==============================] - 36s 36ms/step - loss: 0.2240 - accuracy: 0.9377 - val_loss: 0.0474 - val_accuracy: 0.9878\n",
      "Epoch 8/15\n",
      "981/981 [==============================] - 30s 31ms/step - loss: 0.1936 - accuracy: 0.9493 - val_loss: 0.0438 - val_accuracy: 0.9890\n",
      "Epoch 9/15\n",
      "981/981 [==============================] - 30s 31ms/step - loss: 0.1828 - accuracy: 0.9522 - val_loss: 0.1041 - val_accuracy: 0.9739\n",
      "Epoch 10/15\n",
      "981/981 [==============================] - 30s 30ms/step - loss: 0.2030 - accuracy: 0.9481 - val_loss: 0.0536 - val_accuracy: 0.9866\n",
      "Epoch 11/15\n",
      "981/981 [==============================] - 33s 33ms/step - loss: 0.1935 - accuracy: 0.9513 - val_loss: 0.0411 - val_accuracy: 0.9881\n",
      "Epoch 12/15\n",
      "981/981 [==============================] - 29s 29ms/step - loss: 0.1999 - accuracy: 0.9507 - val_loss: 0.0535 - val_accuracy: 0.9852\n",
      "Epoch 13/15\n",
      "981/981 [==============================] - 31s 32ms/step - loss: 0.1805 - accuracy: 0.9546 - val_loss: 0.0263 - val_accuracy: 0.9929\n",
      "Epoch 14/15\n",
      "981/981 [==============================] - 29s 30ms/step - loss: 0.1764 - accuracy: 0.9552 - val_loss: 0.0464 - val_accuracy: 0.9864\n",
      "Epoch 15/15\n",
      "981/981 [==============================] - 31s 32ms/step - loss: 0.2138 - accuracy: 0.9484 - val_loss: 0.0374 - val_accuracy: 0.9895\n"
     ]
    },
    {
     "name": "stderr",
     "output_type": "stream",
     "text": [
      "c:\\Users\\Tuan Anh\\AppData\\Local\\Programs\\Python\\Python38\\lib\\site-packages\\keras\\src\\engine\\training.py:3000: UserWarning: You are saving your model as an HDF5 file via `model.save()`. This file format is considered legacy. We recommend using instead the native Keras format, e.g. `model.save('my_model.keras')`.\n",
      "  saving_api.save_model(\n"
     ]
    }
   ],
   "source": [
    "epochs = 15\n",
    "history = model.fit(X_train, y_train, batch_size=32, epochs=epochs, validation_data=(X_test, y_test))\n",
    "model.save(\"my_model.h5\")"
   ]
  },
  {
   "cell_type": "code",
   "execution_count": null,
   "metadata": {},
   "outputs": [],
   "source": [
    "#plotting graphs for accuracy \n",
    "plt.figure(0)\n",
    "plt.plot(history.history['accuracy'], label='training accuracy')\n",
    "plt.plot(history.history['val_accuracy'], label='val accuracy')\n",
    "plt.title('Accuracy')\n",
    "plt.xlabel('epochs')\n",
    "plt.ylabel('accuracy')\n",
    "plt.legend()\n",
    "plt.show()\n",
    " \n",
    "plt.figure(1)\n",
    "plt.plot(history.history['loss'], label='training loss')\n",
    "plt.plot(history.history['val_loss'], label='val loss')\n",
    "plt.title('Loss')\n",
    "plt.xlabel('epochs')\n",
    "plt.ylabel('loss')\n",
    "plt.legend()\n",
    "plt.show()"
   ]
  },
  {
   "cell_type": "code",
   "execution_count": null,
   "metadata": {},
   "outputs": [],
   "source": [
    "#testing accuracy on test dataset\n",
    "from sklearn.metrics import accuracy_score\n",
    "\n",
    "# Đọc dữ liệu từ file CSV\n",
    "y_test = pd.read_csv('Test.csv')\n",
    "\n",
    "# Lấy các nhãn và đường dẫn ảnh\n",
    "labels = y_test[\"ClassId\"].values\n",
    "imgs = y_test[\"Path\"].values\n",
    "\n",
    "data = []\n",
    "\n",
    "# Xử lý ảnh\n",
    "for img in imgs:\n",
    "    image = Image.open(img)\n",
    "    image = image.resize((30,30))\n",
    "    data.append(np.array(image))\n",
    "\n",
    "X_test = np.array(data)\n",
    "\n",
    "# Dự đoán xác suất cho các lớp\n",
    "pred = model.predict(X_test)\n",
    "\n",
    "# Chuyển xác suất thành nhãn lớp\n",
    "pred_classes = np.argmax(pred, axis=1)\n",
    "\n",
    "# Tính độ chính xác với dữ liệu kiểm thử\n",
    "print(accuracy_score(labels, pred_classes))"
   ]
  },
  {
   "cell_type": "code",
   "execution_count": null,
   "metadata": {},
   "outputs": [],
   "source": [
    "model.save('traffic_classifier.h5')"
   ]
  }
 ],
 "metadata": {
  "kernelspec": {
   "display_name": "Python 3",
   "language": "python",
   "name": "python3"
  },
  "language_info": {
   "codemirror_mode": {
    "name": "ipython",
    "version": 3
   },
   "file_extension": ".py",
   "mimetype": "text/x-python",
   "name": "python",
   "nbconvert_exporter": "python",
   "pygments_lexer": "ipython3",
   "version": "3.13.0"
  }
 },
 "nbformat": 4,
 "nbformat_minor": 2
}
